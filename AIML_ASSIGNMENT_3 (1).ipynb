{
  "nbformat": 4,
  "nbformat_minor": 0,
  "metadata": {
    "colab": {
      "provenance": []
    },
    "kernelspec": {
      "name": "python3",
      "display_name": "Python 3"
    },
    "language_info": {
      "name": "python"
    }
  },
  "cells": [
    {
      "cell_type": "code",
      "execution_count": 1,
      "metadata": {
        "id": "wl3G8EEPKbAG"
      },
      "outputs": [],
      "source": [
        "import math\n",
        "\n",
        "def minimax_search(game,state):\n",
        "  \"\"\"search game tree to determine best move;return (value,move)pair.\"\"\"\n",
        "  player = search.to.move\n",
        "  def max_value(state):\n",
        "    if game.is_terminal(state):\n",
        "      return game.utility(state ,player),None\n",
        "      v , move = -infinity, None\n",
        "      for a in game.actions(state):\n",
        "        v2, _ = min_value(game.result(state,a))\n",
        "        if v2 > v:\n",
        "          v, move = v2 , a\n",
        "          return v, move\n",
        "          def min_value(state):\n",
        "            if game.is_terminal(state):\n",
        "              return game.utility(state,player),None\n",
        "              v , move = +infinity , None\n",
        "              for a in game.actions(state):\n",
        "                v2, _ =max_value(game.result(state, a))\n",
        "                if v2 < v:\n",
        "                  v, move = v2 , a\n",
        "                  return v , move\n",
        "\n",
        "                  return max_value(state)\n",
        "                  infinity = math.inf"
      ]
    },
    {
      "cell_type": "code",
      "source": [
        "import math\n",
        "def minimax(board, depth, is_maximizing):\n",
        "    if check_winner(board):\n",
        "        return evaluate(board)\n",
        "    if depth == 0:\n",
        "        return 0\n",
        "    if is_maximizing:\n",
        "        best_score = -math.inf\n",
        "        for move in available_moves(board):\n",
        "            board[move] = 'X'\n",
        "            score = minimax(board, depth - 1, False)\n",
        "            board[move] = ' '\n",
        "            best_score = max(score, best_score)\n",
        "        return best_score\n",
        "    else:\n",
        "        best_score = math.inf\n",
        "        for move in available_moves(board):\n",
        "            board[move] = 'O'\n",
        "            score = minimax(board, depth - 1, True)\n",
        "            board[move] = ' '\n",
        "            best_score = min(score, best_score)\n",
        "        return best_score\n",
        "def evaluate(board):\n",
        "    return 0\n",
        "def available_moves(board):\n",
        "    moves = []\n",
        "    for i in range(len(board)):\n",
        "        if board[i] == ' ':\n",
        "            moves.append(i)\n",
        "    return moves\n",
        "def check_winner(board):\n",
        "    return False\n",
        "board = [' '] * 9\n",
        "best_move = None\n",
        "best_score = -math.inf\n",
        "for move in available_moves(board):\n",
        "    board[move] = 'X'\n",
        "    score = minimax(board, 3, False)\n",
        "    board[move] = ' '\n",
        "    if score > best_score:\n",
        "        best_score = score\n",
        "        best_move = move\n",
        "print(\"Best move:\", best_move)"
      ],
      "metadata": {
        "colab": {
          "base_uri": "https://localhost:8080/"
        },
        "id": "lLBpEE9lMXhu",
        "outputId": "6f6c3aa9-3196-48e1-d889-31a3d9a499e2"
      },
      "execution_count": 2,
      "outputs": [
        {
          "output_type": "stream",
          "name": "stdout",
          "text": [
            "Best move: 0\n"
          ]
        }
      ]
    }
  ]
}